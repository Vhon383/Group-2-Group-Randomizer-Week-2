{
  "metadata": {
    "kernelspec": {
      "name": "python",
      "display_name": "Python (Pyodide)",
      "language": "python"
    },
    "language_info": {
      "codemirror_mode": {
        "name": "python",
        "version": 3
      },
      "file_extension": ".py",
      "mimetype": "text/x-python",
      "name": "python",
      "nbconvert_exporter": "python",
      "pygments_lexer": "ipython3",
      "version": "3.8"
    }
  },
  "nbformat_minor": 4,
  "nbformat": 4,
  "cells": [
    {
      "cell_type": "markdown",
      "source": "# __init__.py\nimports the GroupRandomizer and RandomizerGUI classes from the Randomizer subpackage. This makes these classes directly accessible when you import the Randomizer module.",
      "metadata": {}
    },
    {
      "cell_type": "code",
      "source": "from Randomizer import GroupRandomizer, RandomizerGUI\n",
      "metadata": {
        "trusted": true
      },
      "outputs": [],
      "execution_count": null
    },
    {
      "cell_type": "markdown",
      "source": "# grouprandomizer.py\nThe GroupRandomizer class provides functionality for organizing a list of items into random groups or picking a random item. Its parent class: randomizer_base, is to be defined in another module. Which makes GroupRandomizer a child class.  The child class uses the parent class's functionality via __init__  to initialize common properties or methods defined in the parent class.  The _init_ method(Constructor) takes a list of items and passes it to the parent class using super(). This ensures that RandomizerBase's initialization logic is executed. The method create_groups(num_groups): creates a specified number of random groups from the item list. It uses Uses self.validate_items() which is a method from the parent class to ensure the item list is valid. Random.shuffle, shuffles the items randomly. Num_groups distributes the shuffled items in a round-robin fashion where it returns a dictionary where keys are group names for example Group 1 and values are lists of items assigned to those groups. It rasises a ValueError if the number of groups is invalid ex. zero or greater than the number of items. To handle errors the code validates input using self.validate_items() to ensure items is not empty or invalid. It throws a ValueError in Create_groups for invalid group counts. This code ensures robustness via input validation and uses inheritance to extend or utilize common functionality from the RandomizerBase class.\n",
      "metadata": {}
    },
    {
      "cell_type": "markdown",
      "source": "# Parent Class ",
      "metadata": {}
    },
    {
      "cell_type": "code",
      "source": "import random\n\nclass RandomizerBase:\n    def_init_(self, items):\n       self.items = items\n    def validate_items(self):\n        if not self.items:\n            raise ValueError(\"No names provided!\")",
      "metadata": {
        "trusted": true
      },
      "outputs": [],
      "execution_count": null
    },
    {
      "cell_type": "markdown",
      "source": "# Child Class\n",
      "metadata": {}
    },
    {
      "cell_type": "code",
      "source": "class GroupRandomizer(RandomizerBase):\n    def __init__(self, items):\n        super().__init__(items)\n\n    def create_groups(self, num_groups):\n        self.validate_items()\n        if num_groups <= 0 or num_groups > len(self.items):\n            raise ValueError(\"Invalid number of groups!\")\n        random.shuffle(self.items)\n        groups = {f\"Group {i + 1}\": [] for i in range(num_groups)}\n        for i, name in enumerate(self.items):\n            groups[f\"Group {(i % num_groups) + 1}\"].append(name)\n        return groups\n\n    def pick_random_name(self):\n        self.validate_items()\n        return random.choice(self.items)\n",
      "metadata": {
        "trusted": true
      },
      "outputs": [],
      "execution_count": null
    },
    {
      "cell_type": "markdown",
      "source": "# ui_grprndmzr.py\nOverall responsible for giving the program it's UI.\n#Title Label:\n - the header of the UI with the text, \"Name Group Randomizer\"\n#Names Entry:\n - \"Enter Names:\", this block allows the user to input multiple entries separated by a comma\n#Groups Entry:\n - \"Number of Groups:\", this is where the program will separate and group the entries randomly into the number of times that the user wants\n#Buttons:\n - a part of the UI that the user interacts with aside from the textboxes and executes the task of it's label, whether \"Generate Groups\", \"Pick Random Name\", or simply both\n#Random Name Label:\n - the part of the UI that displays the randomly picked name\n#Results Display:\n - responsible for displaying the results/output of the program namely \"Picked Name:\" and the box at the bottom that shows the randomly generated groups, it also has a part in almost every blocks of code in the program",
      "metadata": {}
    },
    {
      "cell_type": "code",
      "source": "import tkinter as tk\nfrom tkinter import messagebox\nfrom .grouprandomizer import GroupRandomizer\n\nclass RandomizerGUI:\n    def __init__(self, root):\n        self.root = root\n        self.root.title(\"Group Randomizer\")\n        self.root.configure(bg=\"gray7\")\n        self.root.geometry(\"800x700\")\n\n        self.label_font = (\"Helvetica\", 18, \"bold\")\n        self.entry_font = (\"Helvetica\", 16)\n        self.button_font = (\"Helvetica\", 16, \"bold\")\n        self.result_font = (\"Helvetica\", 14)\n\n        self.frame = tk.Frame(root, bg=\"gray7\")\n        self.frame.pack(expand=True, anchor=\"center\")\n\n        # Title Label\n        self.label_names = tk.Label(\n            self.frame,\n            text=\"Name Group Randomizer\",\n            font=(\"Courier\", 22, \"bold italic\"),\n            bg=\"gray7\",\n            fg=\"khaki2\",\n            padx=20,\n            pady=10,\n            highlightbackground=\"khaki3\",\n            highlightthickness=4\n        )\n        self.label_names.pack(pady=30)\n\n        # Names Entry\n        self.label_names = tk.Label(\n            self.frame,\n            text=\"Enter Names:\",\n            font=self.label_font,\n            bg=\"gray7\",\n            fg=\"khaki2\"\n        )\n        self.label_names.pack(pady=10)\n\n        self.text_names = tk.Text(\n            self.frame,\n            font=self.entry_font,\n            bg=\"khaki2\",\n            fg=\"gray7\",\n            height=8,\n            width=60,\n            wrap=tk.WORD\n        )\n        self.text_names.pack(pady=5)\n        self.text_names.bind(\"<KeyRelease>\", self.center_text_in_textbox)\n\n        # Groups Entry\n        self.label_groups = tk.Label(\n            self.frame,\n            text=\"Number of Groups:\",\n            font=self.label_font,\n            bg=\"gray7\",\n            fg=\"khaki2\"\n        )\n        self.label_groups.pack(pady=10)\n\n        self.entry_groups = tk.Entry(\n            self.frame,\n            font=self.entry_font,\n            bg=\"khaki2\",\n            fg=\"gray7\",\n            width=10,\n            justify=\"center\"\n        )\n        self.entry_groups.pack(pady=5)\n\n        # Buttons\n        self.button_frame = tk.Frame(self.frame, bg=\"gray7\")\n        self.button_frame.pack(pady=20)\n\n        self.button_generate = tk.Button(\n            self.button_frame,\n            text=\"Generate Groups\",\n            font=self.button_font,\n            bg=\"khaki2\",\n            fg=\"gray7\",\n            command=self.generate_groups\n        )\n        self.button_generate.pack(side=\"left\", padx=10)\n\n        self.button_pick = tk.Button(\n            self.button_frame,\n            text=\"Pick Random Name\",\n            font=self.button_font,\n            bg=\"khaki2\",\n            fg=\"gray7\",\n            command=self.pick_random_name\n        )\n        self.button_pick.pack(side=\"left\", padx=10)\n\n        # Random Name Label\n        self.random_name_label = tk.Label(\n            self.frame,\n            text=\"\",\n            font=(\"Helvetica\", 16, \"italic\"),\n            bg=\"gray7\",\n            fg=\"khaki1\"\n        )\n        self.random_name_label.pack(pady=20)\n\n        # Results Display\n        self.result_display = tk.Text(\n            self.frame,\n            font=self.result_font,\n            bg=\"khaki2\",\n            fg=\"gray7\",\n            height=35,\n            width=20,\n            wrap=tk.WORD\n        )\n        self.result_display.pack(fill=\"both\", expand=True, pady=10)\n        self.result_display.config(state=\"disabled\")\n\n    def center_text_in_textbox(self, event=None):\n        self.text_names.tag_configure(\"center\", justify=\"center\")\n        self.text_names.tag_add(\"center\", \"1.0\", \"end\")\n\n    def get_names(self):\n        names = self.text_names.get(\"1.0\", tk.END).strip().split(',')\n        names = [name.strip() for name in names if name.strip()]\n        return names\n\n    def generate_groups(self):\n        try:\n            names = self.get_names()\n            num_groups = int(self.entry_groups.get())\n            group_randomizer = GroupRandomizer(names)\n            groups = group_randomizer.create_groups(num_groups)\n            self.display_result(groups)\n        except ValueError as e:\n            messagebox.showerror(\"Input Error\", str(e))\n\n    def pick_random_name(self):\n        try:\n            names = self.get_names()\n            group_randomizer = GroupRandomizer(names)\n            random_name = group_randomizer.pick_random_name()\n            self.random_name_label.config(text=f\"Picked Name: {random_name}\")\n        except ValueError as e:\n            messagebox.showerror(\"Input Error\", str(e))\n\n    def display_result(self, groups):\n        self.result_display.config(state=\"normal\")\n        self.result_display.delete(\"1.0\", tk.END)\n        for group, members in groups.items():\n            self.result_display.insert(tk.END, f\"{group}: {', '.join(members)}\\n\")\n        self.result_display.config(state=\"disabled\")\n",
      "metadata": {
        "trusted": true
      },
      "outputs": [],
      "execution_count": null
    },
    {
      "cell_type": "markdown",
      "source": "# app.py\nIt serves as the initialization file for the Randomizer module within the _RANDOMIZER  package.\n\n- Package Initialization: When you import the  Randomizer  module, Python executes the code within  _init_.py. This allows you to define what parts of the module are made available for use by other parts of your program.\n\nIn this case, _init_.py imports the GroupRandomizer and RandomizerGUI classes from the Randomizer subpackage. This makes these classes directly accessible when you import the Randomizer module.",
      "metadata": {}
    },
    {
      "cell_type": "code",
      "source": "import tkinter as tk\nfrom Randomizer.ui_grprndmzr import RandomizerGUI\n\nif __name__ == \"__main__\":\n    root = tk.Tk()\n    app = RandomizerGUI(root)\n    root.mainloop()",
      "metadata": {
        "trusted": true
      },
      "outputs": [],
      "execution_count": null
    }
  ]
}